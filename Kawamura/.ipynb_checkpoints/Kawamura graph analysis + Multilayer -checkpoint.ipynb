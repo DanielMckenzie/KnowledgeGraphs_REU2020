{
 "cells": [
  {
   "cell_type": "code",
   "execution_count": 1,
   "metadata": {},
   "outputs": [],
   "source": [
    "from rdflib import Graph \n",
    "from rdflib.namespace import RDF, OWL\n",
    "from rdflib.term import URIRef\n",
    "import pprint\n",
    "import networkx as nx\n",
    "import random\n",
    "import matplotlib.pyplot as plt\n",
    "def stripURI(x):\n",
    "    return x.split(\"/\")[-1]\n",
    "\n",
    "g = Graph()\n",
    "g.parse(\"SpeckledBand.ttl\", format=\"turtle\");"
   ]
  },
  {
   "cell_type": "code",
   "execution_count": null,
   "metadata": {
    "scrolled": false
   },
   "outputs": [],
   "source": [
    "#checking possibles predicates\n",
    "pred = list(g.predicates())\n",
    "refinedpred = {}\n",
    "for entry in pred:\n",
    "    if entry in refinedpred.keys():\n",
    "        refinedpred[entry] += 1\n",
    "    else:\n",
    "        refinedpred[entry] = 1\n",
    "layer = list(refinedpred.keys())\n",
    "layer2  = []\n",
    "for l in layer:\n",
    "    layer2.append(stripURI(l))\n",
    "print(layer2)"
   ]
  },
  {
   "cell_type": "code",
   "execution_count": 5,
   "metadata": {
    "scrolled": true
   },
   "outputs": [
    {
     "name": "stdout",
     "output_type": "stream",
     "text": [
      "['kgc.owl#from', 'kgc.owl#therefore', 'floor_of_bedroom_of_Helen', 'chimney_of_bedroom_of_Julia', 'bedroom_of_Helen', 'k001', 'wrist_of_Helen', 'floor_of_bedroom_of_Julia', 'wedding_ceremony_of_Julia', 'animal_of_India', 'smell_of_Indian_cigarettes', 'house_of_Holmes', 'notKnown', 'right_building_of_mansion_of_Roylott', 'left_building_of_mansion_of_Roylott', 'cannotOpen', 'bruise_of_fingers_of_Roylott', 'notWork', 'corner_of_bed', 'will_of_mother_of_Helen', 'murder_of_sister', 'motivation_of_murder_of_sister', 'neck_of_Roylott', 'until_signal_of_Helen', 'story_of_Helen', 'kgc.owl#when_during', 'four_walls_of_bedroom_of_Julia', 'sister_of_mother_of_Helen', 'mother_of_Helen', 'body_of_Julia', 'first_floor_of_one_building_of_mansion_of_Roylott', 'door_of_safe', 'notHave', 'bedroom_of_Julia', 'window_of_bedroom_of_Julia', 'desk_of_bedroom_of_Roylott', 'price_of_asset_of_mother_of_Helen', 'asset_of_mother_of_Helen', 'window_of_left_building_of_mansion_of_Roylott', 'one_building_of_mansion_of_Roylott', 'notAnswer', 'cannotFind', 'wall_of_bedroom_of_Helen', 'rope_of_bell', 'window_of_bedroom_of_Roylott', 'voice_of_Julia', 'metadata', 'coroner', 'kgc.owl#around', 'window_of_bedroom_of_Julia_OR_door_of_bedroom_of_Julia', 'kgc.owl#CanNotAction', 'kgc.owl#hasPredicate', 'wall_of_bedroom_of_Julia', 'kgc.owl#how', 'bedroom_of_housekeeper', 'bedroom_of_Roylott', 'central_building_of_mansion_of_Roylott', 'kgc.owl#ORobj', 'kgc.owl#infoSource', 'hinges_of_shutter', 'madeByBrownOakWithInsectHoles', 'window_of_bedroom_of_Helen', 'kgc.owl#Thought', 'kgc.owl#LocationProperty', 'central_part_of_mansion_of_Roylott', 'by_falling_price_of_agricultural_products', 'doctor_of_Stoke_Moran', 'bedroom_of_Roylott_OR_garden_of_Roylott_OR_bedroom_of_Helen', 'villager_of_Stoke_Moran', 'death_cause_of_Julia', 'handkerchief_of_Roma', 'window_of_mansion_of_Roylott', 'kgc.owl#SceneObjectProperty', 'kgc.owl#orTarget', 'back_part_of_chair', 'notHear', 'kgc.owl#why', 'face_of_Holmes', 'at_the_same_time_as_rope_of_bell_put', 'notCome', 'west_building_of_mansion_of_Roylott', 'garden_of_mansion', 'kgc.owl#near', 'kgc.owl#Place', 'kgc.owl#Situation', 'kgc.owl#partOf', 'question_of_Roylott', 'cannotMove', 'notOppose', 'knee_of_Roylott', 'than_bedroom_of_sister', 'cannotTalk', 'death_day_of_Julia', 'kgc.owl#subject', 'kgc.owl#to', 'death_day_of_Roylott', 'notBeFixed', 'near_rope_of_bell', 'sound_of_snake', 'fingers_of_Roylott', 'kgc.owl#on', 'kgc.owl#right', 'death_day_of_mother_of_Helen', 'garden_of_Roylott', 'door_of_bedroom_of_Julia', 'canSee', 'kgc.owl#adjunct', 'cannotGo', 'mansion_of_Roylott', 'engagement_of_Julia', 'kgc.owl#OFobj', 'kgc.owl#wholeOf', 'kgc.owl#then', 'the_most_terrible_snake_of_India', 'reason_of_whistle', 'unlock', 'poison_of_snake', 'kgc.owl#Not', 'notSee', 'roof_of_mansion', 'kgc.owl#Person', 'friend_of_Roylott', 'kgc.owl#left', 'mother_of_sister', 'kgc.owl#middle', 'kgc.owl#infoReceiver', 'notExist', 'kgc.owl#time', 'kgc.owl#at_the_same_time', 'wall_of_right_building_of_mansion_of_Roylott', 'kgc.owl#hasProperty', 'kgc.owl#whom', 'kgc.owl#if', 'kgc.owl#when', 'kgc.owl#otherwise', 'kgc.owl#Animal', 'kgc.owl#where', 'notFind', 'reward_of_request', 'notSatisfied', 'notSleep', 'kgc.owl#canNot', 'kgc.owl#hasPart', 'kgc.owl#opposite', 'kgc.owl#Statement', 'dog_whip_of_Roylott', 'kgc.owl#CanAction', 'kgc.owl#next_to', 'kgc.owl#Talk', 'kgc.owl#NotAction', 'kgc.owl#what', 'notGo', 'kgc.owl#because']\n"
     ]
    }
   ],
   "source": [
    "#check the subject that is not the scene ID\n",
    "\n",
    "strcheck = [] \n",
    "for i in range(500):\n",
    "    strcheck.append(str(i))\n",
    "strcheck.append(\"T184\") \n",
    "strcheck.append(\"T186\")\n",
    "\n",
    "sub = list(g.subjects())\n",
    "subject = {}\n",
    "for entry in sub:\n",
    "    if entry in subject.keys():\n",
    "        subject[entry] += 1\n",
    "    else:\n",
    "        subject[entry] = 1\n",
    "realsubject = list(subject.keys())\n",
    "realsubject_exclude_sceneid  = []\n",
    "for l in realsubject:\n",
    "    l2 = stripURI(l)\n",
    "    if l2 not in strcheck:\n",
    "        realsubject_exclude_sceneid.append(l2)\n",
    "print(realsubject_exclude_sceneid)"
   ]
  },
  {
   "cell_type": "code",
   "execution_count": 8,
   "metadata": {},
   "outputs": [
    {
     "name": "stdout",
     "output_type": "stream",
     "text": [
      "['1881-04-01T10:00:00', 'kgc.owl#LocationProperty', 'chair', 'Julia', 'softly', 'Holmes', 'kgc.owl#RelationBetweenScene', 'floor', 'poison_of_snake', 'Helen', 'bedroom_of_Julia', 'chimney', 'the_most_terrible_snake_of_India', 'bedroom_of_Roylott', 'central_part_of_mansion_of_Roylott', '1883-03-31T10:00:00', 'soon', 'wrist', 'Watson', 'tonight', 'scaffold', 'bedroom_of_Helen', 'shutter', 'window', '1875-04-01T10:00:00', 'metallic_sound', 'corridor', 'mansion_of_Roylott', 'death_day_of_Julia', 'sit', 'trace', 'Roylott', 'for_half_an_hour', 'door_of_safe', 'cat', 'smell', 'go', '1881-11-30T03:00:00', 'snake', 'window_of_bedroom_of_Julia', 'animal', 'fake', 'handkerchief_of_Roma', 'desk', '1881-12-01T10:00:00', 'have', 'house', 'turnOff', 'known', '1883-04-01T15:00:00', 'right_building', 'milk', 'open', 'fingers_of_Roylott', 'rope_of_bell', 'back_part_of_chair', 'private_documents', 'face_of_Holmes', 'notSatisfied', 'live', 'work', '1100_GBP', 'carefully', 'come', \"eleven_o'clock\", 'corner', 'cannotFind', 'death_day_of_Roylott', 'man', 'at_the_same_time_as_rope_of_bell_put', 'small_dish', 'these_days', 'in_ten_seconds', 'murder', 'strap', 'getMarried', 'suspect', 'strongly', 'murder_of_sister', 'Crane_Water', 'India', 'neck', 'disappear', 'burn', 'story', 'lamp', 'equalTo', 'wider', 'corner_of_bed', 'die', 'wall_of_right_building_of_mansion_of_Roylott', 'see', 'sister', 'night', 'mansion', 'scream', 'door', 'exit', 'Roma', 'say', 'hit', 'small', 'animal_of_India', '1883-04-01T11:00:00', 'lock', 'ventilator', 'pull', 'engagement_of_Julia', 'Indian_cigarettes', 'crooked_voice', 'with_metal_fittings', 'safe', 'reach', 'bedroom', 'central_building_of_mansion_of_Roylott', 'living_room', 'asset', 'mother', 'speckled_band', 'mother_of_Helen', 'speckled', 'notOppose', '1881-12-02T00:00:00', 'investigate', 'every_year', 'sound', 'asset_of_mother_of_Helen', 'answer', 'find', 'two_years_ago', 'stay', 'wall', 'unobservable', '1883-04-01T14:00:00', 'beDecorated', 'rope', 'stop', 'until_signal_of_Helen', 'light', 'vanity', 'cannotMove', 'poisonous_snake', '', 'bed', 'bedroom_of_housekeeper', 'madeByBrownOakWithInsectHoles', 'floor_of_bedroom_of_Helen', 'sleep', 'brown', 'coroner', 'subClassOf', 'hear', 'if_Helen_and_Julia_married', 'house_of_Holmes', 'wedding_ceremony', 'specifically', 'lanthanum', 'money', 'best_result', 'table', 'door_of_bedroom_of_Julia', 'first_floor_of_one_building_of_mansion_of_Roylott', 'London', 'kgc.owl#NotAction', 'alone', 'chest', 'exist', 'metal', 'beBroken', 'kgc.owl#TargetObjProperty', 'immediately', 'buy', 'cane', 'ready', 'getAnger', 'strange_points', 'craftsman', 'horizontally', 'broken', 'notBeFixed', 'mouse', 'wall_of_bedroom_of_Helen', 'window_of_bedroom_of_Roylott', 'garden_of_mansion', 'beUpset', 'kgc.owl#SceneObjectProperty', '1883-06-01T10:00:00', 'will_of_mother_of_Helen', 'query', 'take', 'low_celling', 'simple', '1883-04-01T13:00:00', 'notCome', 'with_a_thick_iron_rod', 'garden_of_Roylott', 'hole', 'by_hitting', 'spring', '1883-04-01T23:00:00', 'knee_of_Roylott', 'give', 'smoothing', 'filledWith', 'two-wheeled_coach', 'suddenly', 'housekeeper', 'support', 'kgc.owl#Object', 'kgc.owl#SceneProperty', 'beScared', 'folding_bed', 'leopard', 'reason', 'brownOak', 'storm', 'beModified', 'marriage', 'widely', 'SIG-SWO, JSAI', 'kgc.owl#Scene', 'send', 'dog_whip', '1883-05-01T10:00:00', 'Leatherhead_station', 'bolt', 'know', 'match_box', 'by_falling_price', '1881-12-01T22:00:00', 'notExist', 'death_day_of_mother_of_Helen', 'notHave', 'this_afternoon', '1881-12-01T20:00:00', 'floor_of_bedroom_of_Julia', 'villager_of_Stoke_Moran', 'whistle', 'doctor', 'voice_of_Julia', 'wakeUp', 'notWork', 'right_building_of_mansion_of_Roylott', 'headache', 'lieutenant_commander', 'Stoke_Moran', 'now', 'motivation', 'wind', 'burned_match', 'handkerchief', 'strengthened', 'testify', 'handgun', 'engage', 'talk', '1883-04-02T04:00:00', 'calculate', 'put', 'daytime', 'one_month_ago', 'face', 'at_the_same_time_as_rope', 'fingers', 'return', 'turnOn', 'some_years_ago', '1881-12-02T10:00:00', 'until_the_evening', 'bruise_of_fingers_of_Roylott', '1000_GBP', '1883-04-02T03:00:00', 'garden', 'notSleep', 'quietly', 'ceiling', 'father-in-law', 'brandy', 'notAnswer', 'notFind', '1883-03-31T23:00:00', 'bite', 'four_nails', 'Crown_Inn', 'jumpUp', 'window_of_bedroom_of_Helen', 'last_night', 'unlock', 'lose', '250_GBP', 'become', 'thick', 'this_morning', 'question', 'move', 'oppose', 'noise', 'everything', 'knee', 'kgc.owl#CanAction', 'sleepwear', 'near_rope_of_bell', 'bridge', 'beTied', 'occasionally', 'death_day', 'west_building', 'obtain', 'calm', 'fallDown', 'clothes', 'price_of_asset_of_mother_of_Helen', 'reason_of_whistle', 'fireplace', 'cannotOpen', 'beFixed', 'angry', '1883-03-01T10:00:00', 'train', 'Crewe', 'stone_wall', 'lightly', 'since_yesterday', 'two_small_chairs', 'back_part', 'band', 'Percy_Armitage', 'yellow', 'wedding_ceremony_of_Julia', 'result', 'wall_of_bedroom_of_Julia', 'listen', 'propose', 'bell', 'today', 'notSee', 'notGo', 'window_of_left_building_of_mansion_of_Roylott', 'bad_act', 'baboon', 'premium_wilton_carpet', 'slippers', 'recently', 'intense_fear', 'include', 'agricultural_products', 'insectHoles', 'bruise', 'poison', 'hard', 'fight', 'near_rope', 'cannotTalk', 'with_lamp', 'escape', 'building', 'end', 'sister_of_mother_of_Helen', 'hotel', 'cry', 'limbs', 'tightly', '公開バージョン（2018-06-05） ', 'left_building', 'central_part', 'by_falling_price_of_agricultural_products', 'body_of_Julia', 'coach', 'than_bedroom_of_sister', '1883-04-01T06:00:00', 'Harrow', 'friend_of_Roylott', '750_GBP', 'eyes', 'k001', 'candle', 'turnPale', 'body', 'will', 'old-fashioned', 'effect', 'beDivided', 'chimney_of_bedroom_of_Julia', 'bell_put', 'expect', 'objects', 'window_of_mansion_of_Roylott', 'roof_of_mansion', 'fact', 'standUp', 'strange', 'Leopard', 'for_a_moment', 'narrow', 'the_most_terrible_snake', 'first_floor', 'ruined', 'bedroom_of_Roylott_OR_garden_of_Roylott_OR_bedroom_of_Helen', '2_years_ago', 'bookshelf', 'two_weeks_before_the_wedding_ceremony', 'left_building_of_mansion_of_Roylott', 'kgc.owl#ActionOption', 'four_walls_of_bedroom_of_Julia', 'close', 'like', '1880-04-01T16:00:00', 'warn', 'roof', 'than_bedroom', 'dark', 'notHear', 'reward_of_request', 'decorative_wear', 'suffering', 'until_signal', 'engagement', 'kgc.owl#Animal', 'window_of_bedroom_of_Julia_OR_door_of_bedroom_of_Julia', 'call', 'friend', 'west_building_of_mansion_of_Roylott', 'tighten', '1873-04-01T10:00:00', 'motivation_of_murder_of_sister', 'wrist_of_Helen', 'accept', 'villager', 'goUp', 'one_building_of_mansion_of_Roylott', 'XMLSchema#DateTime', 'dizzy', '1883-04-01T10:00:00', 'white_overhard', 'notKnown', 'one_building', 'jet_of_steam', 'desk_of_bedroom_of_Roylott', '1881-12-01T23:00:00', 'awareness', 'anger', 'danger', 'new', 'cannotGo', 'meet', 'question_of_Roylott', 'story_of_Helen', 'signal', '1883-04-01T17:00:00', 'interesting_features', 'scar', 'beTremble', 'mother_of_sister', 'point', 'change', 'deeply', 'pay', 'neck_of_Roylott', 'fire', 'early_morning', 'request', 'within_2_months', 'louder', 'satisfied', 'repair', 'madeByIron', 'canSee', '30_years_old', 'four_walls', 'kgc.owl#Action', 'gradually', 'hinges_of_shutter', 'sound_of_snake', 'reward', 'dog_whip_of_Roylott', 'central_building', 'whip', 'Speech_to_Helen', 'half', 'death_cause_of_Julia', 'hinges', 'match', '8_years_ago', 'prepare', '1883-04-01T18:00:00', 'death_cause', 'when_get_married', 'smell_of_Indian_cigarettes', 'church_bell', 'doctor_of_Stoke_Moran', 'fear', 'price', 'Safe', 'goDown', 'gray', 'madeByMossyStone', 'voice']\n"
     ]
    }
   ],
   "source": [
    "obj = list(g.objects())\n",
    "obje = {}\n",
    "for entry in obj:\n",
    "    if entry in obje.keys():\n",
    "        obje[entry] += 1\n",
    "    else:\n",
    "        obje[entry] = 1\n",
    "obje = list(obje.keys())\n",
    "realobj_exclude_sceneid  = []\n",
    "for l in obje:\n",
    "    l2 = stripURI(l)\n",
    "    if l2 not in strcheck:\n",
    "        realobj_exclude_sceneid.append(l2)\n",
    "print(realobj_exclude_sceneid)"
   ]
  },
  {
   "cell_type": "code",
   "execution_count": 2,
   "metadata": {},
   "outputs": [],
   "source": [
    "# Remove the unwanted triples\n",
    "forbidden_edges = [\n",
    "    URIRef(\"http://www.w3.org/2000/01/rdf-schema#label\"),\n",
    "    URIRef(\"http://www.w3.org/1999/02/22-rdf-syntax-ns#type\"),\n",
    "    URIRef(\"http://kgc.knowledge-graph.jp/ontology/kgc.owl#source\")\n",
    "]\n",
    "# cannot just remove these triples, also need to remove triples which follow it\n",
    "for e in forbidden_edges:\n",
    "    g.remove((None, e, None))"
   ]
  },
  {
   "cell_type": "code",
   "execution_count": null,
   "metadata": {},
   "outputs": [],
   "source": [
    "def get_degrees(g):\n",
    "    degrees = {}\n",
    "    for subj in g.subjects():\n",
    "        d = len(list(g.predicate_objects(subject=subj)))\n",
    "        degrees[subj] = d\n",
    "    return degrees"
   ]
  },
  {
   "cell_type": "code",
   "execution_count": null,
   "metadata": {},
   "outputs": [],
   "source": [
    "# Remove nodes of very low degree\n",
    "degrees = get_degrees(g)\n",
    "lowDegreeNodes = []\n",
    "for k in degrees:\n",
    "    d = degrees[k]\n",
    "    if d < 3:\n",
    "        lowDegreeNodes.append(k)\n",
    "for n in lowDegreeNodes:\n",
    "    g.remove((None, None, n))\n",
    "    g.remove((n, None, None))"
   ]
  },
  {
   "cell_type": "code",
   "execution_count": null,
   "metadata": {},
   "outputs": [],
   "source": [
    "#let's try to screen out all the predicate away and forgetting all the scene ID\n",
    "from pymnet import *\n",
    "net = MultilayerNetwork(aspects = 1)\n",
    "querylist = [1]\n",
    "for i in querylist:\n",
    "    net.add_layer(i)\n",
    "    subs_objs = list(g.subject_objects(predicate = layer[i]))\n",
    "    for s,o in subs_objs:\n",
    "        if stripURI(s) not in strcheck and stripURI(o) not in strcheck:\n",
    "            net[stripURI(s),i][stripURI(o),i] = 1\n",
    "        \n",
    "fig = draw(net, show=True,\n",
    "             layerColorRule={},\n",
    "             defaultLayerColor=\"gray\",\n",
    "             edgeColorRule={\"rule\":\"edgeweight\",\"colormap\":\"jet\",\"scaleby\":0.1}\n",
    "             )\n",
    "fig.savefig(\"net.pdf\")\n",
    "# This seems like a bad choice, as all interesting stuffs disappear."
   ]
  },
  {
   "cell_type": "code",
   "execution_count": null,
   "metadata": {},
   "outputs": [],
   "source": [
    "subjs = list(g.subjects())\n",
    "current = random.choice(subjs)\n",
    "preds_objs = list(g.predicate_objects(subject = current))\n",
    "print(current)\n",
    "print(preds_objs)\n"
   ]
  },
  {
   "cell_type": "code",
   "execution_count": null,
   "metadata": {},
   "outputs": [],
   "source": [
    "# Average degree\n",
    "degrees = {}\n",
    "total = 0\n",
    "for subj in g.subjects():\n",
    "    d = len(list(g.predicate_objects(subject=subj)))\n",
    "    degrees[subj] = d\n",
    "    total += d\n",
    "#print(total / len(list(g.subjects())))\n",
    "\n",
    "# plot degrees\n",
    "num_bins = 14\n",
    "fig, ax = plt.subplots()\n",
    "# the histogram of the data\n",
    "n, bins, patches = ax.hist(degrees.values(), num_bins)\n",
    "plt.show()\n",
    "\n",
    "# most nodes have degree 2, let's see what these edges are\n",
    "twoEdges = {}\n",
    "for node in degrees:\n",
    "    if degrees[node] == 2:\n",
    "        edges = g.predicates(subject=node)\n",
    "        for e in edges:\n",
    "            edge = stripURI(e)\n",
    "            if edge in twoEdges.keys():\n",
    "                twoEdges[edge] += 1\n",
    "            else:\n",
    "                twoEdges[edge] = 1\n",
    "x = list(twoEdges.keys())\n",
    "y = [twoEdges[i] for i in x]\n",
    "plt.xticks(rotation='vertical')\n",
    "plt.bar(x,y)\n",
    "plt.show()\n",
    "\n",
    "# most nodes are have \"type\" ad \"label\" attached to them, which makes sense."
   ]
  },
  {
   "cell_type": "code",
   "execution_count": 3,
   "metadata": {},
   "outputs": [
    {
     "name": "stderr",
     "output_type": "stream",
     "text": [
      "C:\\Users\\tachi\\Anaconda3\\lib\\site-packages\\networkx\\drawing\\nx_pylab.py:611: MatplotlibDeprecationWarning: isinstance(..., numbers.Number)\n",
      "  if cb.is_numlike(alpha):\n"
     ]
    },
    {
     "data": {
      "image/png": "[encoded data removed]",
      "text/plain": [
       "<Figure size 432x288 with 1 Axes>"
      ]
     },
     "metadata": {
      "needs_background": "light"
     },
     "output_type": "display_data"
    },
    {
     "name": "stdout",
     "output_type": "stream",
     "text": [
      "[['kgc.owl#why', 'quietly'], ['kgc.owl#then', '314'], ['kgc.owl#infoSource', 'Watson'], ['kgc.owl#next_to', 'bedroom_of_Julia'], ['kgc.owl#hasPredicate', 'exist'], ['kgc.owl#subject', 'man'], ['kgc.owl#subject', 'man'], ['kgc.owl#hasPredicate', 'stop'], ['kgc.owl#then', '315'], ['kgc.owl#next_to', 'bedroom_of_Julia'], ['kgc.owl#then', '316'], ['kgc.owl#subject', 'Holmes'], ['kgc.owl#subject', 'Watson'], ['kgc.owl#hasPredicate', 'smell'], ['kgc.owl#how', 'strongly'], ['kgc.owl#subject', 'Watson'], ['kgc.owl#how', 'carefully'], ['kgc.owl#hasPredicate', 'listen'], ['kgc.owl#time', '1883-04-02T03:00:00'], ['kgc.owl#when', 'for_half_an_hour'], ['kgc.owl#then', '317'], ['kgc.owl#subject', 'Holmes'], ['kgc.owl#hasPredicate', 'hear'], ['kgc.owl#how', 'suddenly'], ['kgc.owl#what', '318'], ['kgc.owl#subject', 'Holmes'], ['kgc.owl#then', '322'], ['kgc.owl#what', '319'], ['kgc.owl#subject', 'Watson'], ['kgc.owl#subject', 'sound'], ['kgc.owl#hasProperty', 'softly'], ['kgc.owl#hasProperty', 'calm'], ['kgc.owl#subject', 'sound'], ['kgc.owl#subject', 'sound'], ['kgc.owl#hasProperty', 'smoothing'], ['kgc.owl#what', 'jet_of_steam'], ['kgc.owl#hasPredicate', 'like'], ['kgc.owl#subject', 'sound'], ['kgc.owl#then', '323'], ['kgc.owl#time', '1883-04-02T03:00:00'], ['kgc.owl#from', 'bed'], ['kgc.owl#subject', 'Holmes'], ['kgc.owl#hasPredicate', 'jumpUp'], ['kgc.owl#when', '317'], ['kgc.owl#hasPredicate', 'fire'], ['kgc.owl#what', 'match'], ['kgc.owl#then', '324'], ['kgc.owl#subject', 'Holmes'], ['kgc.owl#what', 'rope_of_bell'], ['kgc.owl#then', '325'], ['kgc.owl#hasPredicate', 'hit'], ['kgc.owl#how', 'cane'], ['kgc.owl#subject', 'Holmes'], ['kgc.owl#infoSource', 'Holmes'], ['kgc.owl#subject', 'Watson'], ['kgc.owl#hasPredicate', 'see'], ['kgc.owl#what', 'snake']]\n"
     ]
    }
   ],
   "source": [
    "#consider the \"then\" predicates, let's see what the first connected component be (we can screen each component later)\n",
    "thenG = nx.Graph()\n",
    "for s, p, o in g.triples((None,\n",
    "    URIRef(\"http://kgc.knowledge-graph.jp/ontology/kgc.owl#then\"),\n",
    "    None)): \n",
    "    #makes the nodes labeling readable\n",
    "    thenG.add_edge(stripURI(s), stripURI(o))\n",
    "connected = list(nx.connected_component_subgraphs(thenG))\n",
    "x = {}\n",
    "x[0] = list(connected[0].nodes)\n",
    "x[0] = [int(x) for x in x[0]]\n",
    "nx.draw_networkx(connected[0])\n",
    "plt.show()\n",
    "y = []\n",
    "for i in range(min(x[0]), max(x[0])+1):\n",
    "    suburi = \"http://kgc.knowledge-graph.jp/data/SpeckledBand/\" + str(i)\n",
    "    sub = URIRef(suburi)\n",
    "    content = list(g.predicate_objects(subject = sub))\n",
    "    for p,o in content:\n",
    "        y.append([stripURI(p), stripURI(o)])\n",
    "print(y)        "
   ]
  },
  {
   "cell_type": "code",
   "execution_count": 4,
   "metadata": {},
   "outputs": [
    {
     "name": "stdout",
     "output_type": "stream",
     "text": [
      "http://kgc.knowledge-graph.jp/data/SpeckledBand/212\n",
      "<class 'str'>\n"
     ]
    }
   ],
   "source": [
    "sub = list(g.subjects()) \n",
    "s = str(sub[0])\n",
    "print(s)\n",
    "print(type(s))"
   ]
  },
  {
   "cell_type": "code",
   "execution_count": null,
   "metadata": {},
   "outputs": [],
   "source": [
    "print(list(g.subjects()))"
   ]
  },
  {
   "cell_type": "code",
   "execution_count": null,
   "metadata": {},
   "outputs": [],
   "source": [
    "print(\"rdflib.term.URIRef('http://kgc.knowledge-graph.jp/data/SpeckledBand/\" + \"333')\" )"
   ]
  },
  {
   "cell_type": "code",
   "execution_count": null,
   "metadata": {},
   "outputs": [],
   "source": [
    "i = 3\n",
    "content = list(g.predicate_objects(subject=\"rdflib.term.URIRef('http://kgc.knowledge-graph.jp/data/SpeckledBand/\" + str(i) +\"')\"))\n",
    "u = \"rdflib.term.URIRef('http://kgc.knowledge-graph.jp/data/SpeckledBand/\" + str(i) +\"')\"\n",
    "print(content)\n",
    "print(u)"
   ]
  }
 ],
 "metadata": {
  "kernelspec": {
   "display_name": "Python 3",
   "language": "python",
   "name": "python3"
  },
  "language_info": {
   "codemirror_mode": {
    "name": "ipython",
    "version": 3
   },
   "file_extension": ".py",
   "mimetype": "text/x-python",
   "name": "python",
   "nbconvert_exporter": "python",
   "pygments_lexer": "ipython3",
   "version": "3.7.3"
  }
 },
 "nbformat": 4,
 "nbformat_minor": 2
}
