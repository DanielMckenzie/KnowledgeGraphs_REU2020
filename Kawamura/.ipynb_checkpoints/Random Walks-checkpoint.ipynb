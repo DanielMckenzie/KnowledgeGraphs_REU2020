{
 "cells": [
  {
   "cell_type": "code",
   "execution_count": 17,
   "metadata": {},
   "outputs": [],
   "source": [
    "from rdflib import Graph \n",
    "from rdflib.namespace import RDF, OWL\n",
    "from rdflib.term import URIRef\n",
    "import pprint\n",
    "import networkx as nx\n",
    "import matplotlib.pyplot as plt\n",
    "import random\n",
    "\n",
    "def stripURI(x):\n",
    "    return x.split(\"/\")[-1]\n",
    "\n",
    "g = Graph()\n",
    "g.parse(\"resources/SpeckledBand.ttl\", format=\"turtle\");"
   ]
  },
  {
   "cell_type": "code",
   "execution_count": 72,
   "metadata": {},
   "outputs": [
    {
     "name": "stdout",
     "output_type": "stream",
     "text": [
      "56 kgc.owl#subject Helen\n",
      "Helen 22-rdf-syntax-ns#type kgc.owl#Person\n",
      "kgc.owl#Person 22-rdf-syntax-ns#type owl#Class\n"
     ]
    }
   ],
   "source": [
    "# Graph a random walk\n",
    "WALK_LENGTH = 10\n",
    "subjs = list(g.subjects())\n",
    "randomWalkGraph = nx.DiGraph()\n",
    "edgeLabels = {}\n",
    "plt.clf() # need this if using %matplotlib qt \n",
    "\n",
    "currentNode = random.choice(subjs)\n",
    "currentNode_strip = stripURI(currentNode)\n",
    "for i in range(WALK_LENGTH):\n",
    "    # choose a random edge\n",
    "    preds_objs = list(g.predicate_objects(subject = currentNode))\n",
    "    if len(preds_objs) == 0: # nowhere to go, end walk\n",
    "        break\n",
    "    pred, obj = random.choice(preds_objs)\n",
    "    pred_strip, obj_strip = stripURI(pred), stripURI(obj)\n",
    "    print(currentNode_strip, pred_strip, obj_strip)\n",
    "    randomWalkGraph.add_edge(currentNode_strip, obj_strip)\n",
    "    edgeLabels[(currentNode_strip, obj_strip)] = pred_strip\n",
    "    \n",
    "    currentNode = obj\n",
    "    currentNode_strip = stripURI(currentNode)\n",
    "\n",
    "%matplotlib qt\n",
    "pos = nx.spring_layout(randomWalkGraph)\n",
    "nx.draw_networkx(randomWalkGraph, pos=pos)\n",
    "nx.draw_networkx_edge_labels(randomWalkGraph, pos=pos, edge_labels=edgeLabels)\n",
    "plt.show()\n",
    "# sometimes freaks out when it tries to render kanji/hirigana/katakana\n",
    "    "
   ]
  },
  {
   "cell_type": "markdown",
   "metadata": {},
   "source": [
    "# Example of  Random Walk\n",
    "![yeet](resources/Figure_1.png)"
   ]
  },
  {
   "cell_type": "code",
   "execution_count": 13,
   "metadata": {},
   "outputs": [
    {
     "name": "stderr",
     "output_type": "stream",
     "text": [
      "No handles with labels found to put in legend.\n"
     ]
    }
   ],
   "source": [
    "# Show all show all edges which are encoded with \"Then\"\n",
    "thenG = nx.DiGraph()\n",
    "for s, p, o in g.triples((None,\n",
    "    URIRef(\"http://kgc.knowledge-graph.jp/ontology/kgc.owl#then\"),\n",
    "    None)): \n",
    "    # Idea: do query to get better node names\n",
    "    thenG.add_edge(stripURI(s), stripURI(o))\n",
    "\n",
    "%matplotlib qt\n",
    "nx.draw_networkx(thenG)\n",
    "plt.show()"
   ]
  },
  {
   "cell_type": "code",
   "execution_count": 92,
   "metadata": {},
   "outputs": [],
   "source": [
    "# Various Graph statistics\n",
    "\n",
    "# Average degree\n",
    "degrees = {}\n",
    "total = 0\n",
    "for subj in g.subjects():\n",
    "    d = len(list(g.predicate_objects(subject=subj)))\n",
    "    degrees[subj] = d\n",
    "    total += d\n",
    "#print(total / len(list(g.subjects())))\n",
    "\n",
    "# plot degrees\n",
    "num_bins = 10\n",
    "fig, ax = plt.subplots()\n",
    "# the histogram of the data\n",
    "%matplotlib inline\n",
    "n, bins, patches = ax.hist(degrees.values(), num_bins)\n",
    "plt.show()"
   ]
  }
 ],
 "metadata": {
  "kernelspec": {
   "display_name": "Python 3",
   "language": "python",
   "name": "python3"
  },
  "language_info": {
   "codemirror_mode": {
    "name": "ipython",
    "version": 3
   },
   "file_extension": ".py",
   "mimetype": "text/x-python",
   "name": "python",
   "nbconvert_exporter": "python",
   "pygments_lexer": "ipython3",
   "version": "3.8.3"
  }
 },
 "nbformat": 4,
 "nbformat_minor": 4
}
